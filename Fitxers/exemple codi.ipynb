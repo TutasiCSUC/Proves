{
 "cells": [
  {
   "cell_type": "code",
   "execution_count": 1,
   "id": "ab7b6afe",
   "metadata": {},
   "outputs": [
    {
     "name": "stdout",
     "output_type": "stream",
     "text": [
      "Requirement already satisfied: html2text in c:\\users\\juan.tutasi\\anaconda3\\lib\\site-packages (2020.1.16)\n",
      "Note: you may need to restart the kernel to use updated packages.\n"
     ]
    }
   ],
   "source": [
    "pip install html2text"
   ]
  },
  {
   "cell_type": "code",
   "execution_count": 2,
   "id": "9583cfb5",
   "metadata": {},
   "outputs": [
    {
     "name": "stdout",
     "output_type": "stream",
     "text": [
      "Requirement already satisfied: pyDataverse in c:\\users\\juan.tutasi\\anaconda3\\lib\\site-packages (0.3.1)\n",
      "Requirement already satisfied: requests>=2.12.0 in c:\\users\\juan.tutasi\\anaconda3\\lib\\site-packages (from pyDataverse) (2.27.1)\n",
      "Requirement already satisfied: jsonschema>=3.2.0 in c:\\users\\juan.tutasi\\anaconda3\\lib\\site-packages (from pyDataverse) (4.4.0)\n",
      "Requirement already satisfied: attrs>=17.4.0 in c:\\users\\juan.tutasi\\anaconda3\\lib\\site-packages (from jsonschema>=3.2.0->pyDataverse) (21.4.0)\n",
      "Requirement already satisfied: pyrsistent!=0.17.0,!=0.17.1,!=0.17.2,>=0.14.0 in c:\\users\\juan.tutasi\\anaconda3\\lib\\site-packages (from jsonschema>=3.2.0->pyDataverse) (0.18.0)\n",
      "Requirement already satisfied: charset-normalizer~=2.0.0 in c:\\users\\juan.tutasi\\anaconda3\\lib\\site-packages (from requests>=2.12.0->pyDataverse) (2.0.4)\n",
      "Requirement already satisfied: certifi>=2017.4.17 in c:\\users\\juan.tutasi\\anaconda3\\lib\\site-packages (from requests>=2.12.0->pyDataverse) (2021.10.8)\n",
      "Requirement already satisfied: idna<4,>=2.5 in c:\\users\\juan.tutasi\\anaconda3\\lib\\site-packages (from requests>=2.12.0->pyDataverse) (3.3)\n",
      "Requirement already satisfied: urllib3<1.27,>=1.21.1 in c:\\users\\juan.tutasi\\anaconda3\\lib\\site-packages (from requests>=2.12.0->pyDataverse) (1.26.9)\n",
      "Note: you may need to restart the kernel to use updated packages.\n"
     ]
    }
   ],
   "source": [
    "pip install pyDataverse"
   ]
  },
  {
   "cell_type": "code",
   "execution_count": 3,
   "id": "aa259d5b",
   "metadata": {},
   "outputs": [
    {
     "ename": "ModuleNotFoundError",
     "evalue": "No module named 'creacio_readme'",
     "output_type": "error",
     "traceback": [
      "\u001b[1;31m---------------------------------------------------------------------------\u001b[0m",
      "\u001b[1;31mModuleNotFoundError\u001b[0m                       Traceback (most recent call last)",
      "Input \u001b[1;32mIn [3]\u001b[0m, in \u001b[0;36m<cell line: 3>\u001b[1;34m()\u001b[0m\n\u001b[0;32m      1\u001b[0m \u001b[38;5;28;01mfrom\u001b[39;00m \u001b[38;5;21;01mpyDataverse\u001b[39;00m\u001b[38;5;21;01m.\u001b[39;00m\u001b[38;5;21;01mapi\u001b[39;00m \u001b[38;5;28;01mimport\u001b[39;00m NativeApi, DataAccessApi\n\u001b[0;32m      2\u001b[0m \u001b[38;5;28;01mfrom\u001b[39;00m \u001b[38;5;21;01mpyDataverse\u001b[39;00m\u001b[38;5;21;01m.\u001b[39;00m\u001b[38;5;21;01mmodels\u001b[39;00m \u001b[38;5;28;01mimport\u001b[39;00m Dataverse\n\u001b[1;32m----> 3\u001b[0m \u001b[38;5;28;01mfrom\u001b[39;00m \u001b[38;5;21;01mcreacio_readme\u001b[39;00m \u001b[38;5;28;01mimport\u001b[39;00m exportmetadata\n\u001b[0;32m      4\u001b[0m \u001b[38;5;28;01mfrom\u001b[39;00m \u001b[38;5;21;01mcreacio_readme\u001b[39;00m \u001b[38;5;28;01mimport\u001b[39;00m filemetadata\n\u001b[0;32m      5\u001b[0m \u001b[38;5;28;01mfrom\u001b[39;00m \u001b[38;5;21;01mcreacio_readme\u001b[39;00m \u001b[38;5;28;01mimport\u001b[39;00m crear_readme\n",
      "\u001b[1;31mModuleNotFoundError\u001b[0m: No module named 'creacio_readme'"
     ]
    }
   ],
   "source": [
    "from pyDataverse.api import NativeApi, DataAccessApi\n",
    "from pyDataverse.models import Dataverse\n",
    "from creacio_readme import exportmetadata\n",
    "from creacio_readme import filemetadata\n",
    "from creacio_readme import crear_readme"
   ]
  },
  {
   "cell_type": "code",
   "execution_count": null,
   "id": "2aab68bc",
   "metadata": {},
   "outputs": [],
   "source": [
    "#IMPORTANT: Emplenar les variables token i doi\n",
    "token= '' #token privat d'Admin, consultar-lo a la interfície de CORA.RDR\n",
    "doi=\"doi:10.34810/data232\" # doi del dataset"
   ]
  },
  {
   "cell_type": "code",
   "execution_count": null,
   "id": "a44a6685",
   "metadata": {},
   "outputs": [],
   "source": []
  },
  {
   "cell_type": "code",
   "execution_count": 14,
   "id": "f705b2e0",
   "metadata": {},
   "outputs": [],
   "source": [
    "base_url = 'https://dataverse.pre.csuc.cat/'# URL del repositori\n",
    "api = NativeApi(base_url,token)#funció per accedir a l'API\n",
    "data_api = DataAccessApi(base_url,token) #funció per accedir a dades mitjançant l'API\n",
    "dataset = api.get_dataset(doi)\n",
    "metadata_keys_one=[]#llista on es guardaran les 'keys' de les metadades\n",
    "metadata_values_one=[]#llista on es guardaran els 'values' de les metadades\n",
    "filemetadata_keys_one=[]\n",
    "filemetadata_values_one=[]\n",
    "#Llista de metadades obligatòries, si voleu estudiar altres metadades, modifiqueu-lo\n",
    "metadata_required_cora = ['authorIdentifierScheme']\n",
    "exportmetadata(base_url,token,doi,metadata_keys_one,metadata_values_one)#exportem metadades\n",
    "filemetadata(base_url,token,doi,dataset,filemetadata_keys_one,filemetadata_values_one)#exportem metadades de fitxers\n",
    "crear_readme(base_url,token,doi,metadata_keys_one,metadata_values_one,filemetadata_keys_one,filemetadata_values_one) #creem el readme"
   ]
  }
 ],
 "metadata": {
  "kernelspec": {
   "display_name": "Python 3 (ipykernel)",
   "language": "python",
   "name": "python3"
  },
  "language_info": {
   "codemirror_mode": {
    "name": "ipython",
    "version": 3
   },
   "file_extension": ".py",
   "mimetype": "text/x-python",
   "name": "python",
   "nbconvert_exporter": "python",
   "pygments_lexer": "ipython3",
   "version": "3.9.12"
  }
 },
 "nbformat": 4,
 "nbformat_minor": 5
}
