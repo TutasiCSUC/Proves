{
 "cells": [
  {
   "cell_type": "markdown",
   "id": "13318227",
   "metadata": {},
   "source": [
    "# Script per pujar fitxers automàticament"
   ]
  },
  {
   "cell_type": "markdown",
   "id": "d33eb7fa",
   "metadata": {},
   "source": [
    "OBSERVACIÓ: No modifiqueu aquest document. Si necessiteu modificar-lo, feu-ne una còpia. Si teniu dubtes del codi, contactar amb rdr-contacte@csuc.cat"
   ]
  },
  {
   "cell_type": "markdown",
   "id": "f7f20ee8",
   "metadata": {},
   "source": [
    "## OBJECTIU DE L'SCRIPT "
   ]
  },
  {
   "cell_type": "markdown",
   "id": "8bc53a44",
   "metadata": {},
   "source": [
    "L'objectiu principal d'aquest script és pujar automàticament fitxers a un dataset amb les seves respectives metadades posades en un fitxer Excel."
   ]
  },
  {
   "cell_type": "markdown",
   "id": "a0e2b878",
   "metadata": {},
   "source": [
    "## OBSERVACIÓ DE L'SCRIPT"
   ]
  },
  {
   "cell_type": "markdown",
   "id": "583be0d4",
   "metadata": {},
   "source": [
    "S'ha de descarregar prèviament el fitxer 'uploadfile_functions.py' que es troba a https://confluence.csuc.cat/display/RDM/Scripts.\n",
    "\n",
    "Col·loqueu els fitxers dels scripts i els fitxers que es pujaran al dataset a la mateixa carpeta del vostre ordinador.\n",
    "\n",
    "Per generar l’Excel i que l’script funcioni correctament, cal seguir aquests requeriments:\n",
    "\n",
    "- La primera fila és la capçalera i ha de contenir el nom de les variables en aquest ordre:\n",
    "    - File Name\n",
    "    - Description\n",
    "    - File Path\n",
    "    - Tag\n",
    "- Cada fila correspon a un fitxer.\n",
    "- El nom del fitxer (File Name) és l'única metadada obligatòria.\n",
    "    - Ha d’estar escrit correctament i incloure-hi la seva extensió.\n",
    "- En el cas que alguna cel·la no contingui informació, cal deixar-la buida.\n",
    "- En el cas que la metadada contingui un número, cal escriure'l entre cometes.\n",
    "- En la variable etiquetes (Tag), en el cas que se'n vulguin aplicar diverses, escriure-les separades per una coma.\n"
   ]
  },
  {
   "cell_type": "markdown",
   "id": "147df955",
   "metadata": {},
   "source": [
    "## IMPORTANT:  Només omplir les variables token, doi i nom_excel."
   ]
  },
  {
   "cell_type": "code",
   "execution_count": null,
   "id": "b6093534",
   "metadata": {},
   "outputs": [],
   "source": [
    "token= 'xxxxxx-xxxxx-xxxxx-xxxxxx' #token privat d'Admin, consultar-lo a la interfície de CORA.RDR del tipus xxxxxx-xxxxx-xxxxx-xxxxxx\n",
    "doi='doi:10.34810/data'# doi del dataset tipus \"doi:10.34810/dataxxx\"\n",
    "nom_excel='exemple.xlsx'#nom del fitxer excel amb metadades"
   ]
  },
  {
   "cell_type": "markdown",
   "id": "96edcedb",
   "metadata": {},
   "source": [
    "## Instal·lar les següents llibreries només si no les teniu instal·lades. Excuteu:"
   ]
  },
  {
   "cell_type": "code",
   "execution_count": null,
   "id": "71f626fa",
   "metadata": {},
   "outputs": [],
   "source": [
    "pip install --upgrade pip"
   ]
  },
  {
   "cell_type": "code",
   "execution_count": null,
   "id": "31a2d4a3",
   "metadata": {},
   "outputs": [],
   "source": [
    "pip install pyDataverse"
   ]
  },
  {
   "cell_type": "code",
   "execution_count": null,
   "id": "88f531cf",
   "metadata": {},
   "outputs": [],
   "source": [
    "pip install numpy"
   ]
  },
  {
   "cell_type": "code",
   "execution_count": null,
   "id": "b878bb6a",
   "metadata": {},
   "outputs": [],
   "source": [
    "pip install numpy pandas"
   ]
  },
  {
   "cell_type": "code",
   "execution_count": null,
   "id": "5f04f823",
   "metadata": {},
   "outputs": [],
   "source": [
    "pip install openpyxl"
   ]
  },
  {
   "cell_type": "markdown",
   "id": "389f5bc6",
   "metadata": {},
   "source": [
    "## Executeu el següent per penjar els fitxers:"
   ]
  },
  {
   "cell_type": "code",
   "execution_count": null,
   "id": "c0da682a",
   "metadata": {},
   "outputs": [],
   "source": [
    "from uploadfiles_functions import pujar_arxius\n",
    "base_url = 'https://dataverse.csuc.cat/'# URL del repositori\n",
    "pujar_arxius(base_url,token,doi,nom_excel)"
   ]
  }
 ],
 "metadata": {
  "kernelspec": {
   "display_name": "Python 3 (ipykernel)",
   "language": "python",
   "name": "python3"
  },
  "language_info": {
   "codemirror_mode": {
    "name": "ipython",
    "version": 3
   },
   "file_extension": ".py",
   "mimetype": "text/x-python",
   "name": "python",
   "nbconvert_exporter": "python",
   "pygments_lexer": "ipython3",
   "version": "3.9.12"
  }
 },
 "nbformat": 4,
 "nbformat_minor": 5
}
